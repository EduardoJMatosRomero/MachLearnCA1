{
 "cells": [
  {
   "cell_type": "markdown",
   "id": "49f37e36",
   "metadata": {},
   "source": [
    "Logical justification based on the reasoning for the specific choice of machine learning approaches."
   ]
  },
  {
   "cell_type": "markdown",
   "id": "89924ba7",
   "metadata": {},
   "source": [
    "Multiple machine learning approaches (at least two) using hyperparameters and a comparison\n",
    "between the chosen modelling approaches."
   ]
  },
  {
   "cell_type": "markdown",
   "id": "fd8816d2",
   "metadata": {},
   "source": [
    "Visualise your comparison of ML modelling outcomes. You may use a statistical approach to argue that\n",
    "one feature is more important than other features (for example, using PCA)."
   ]
  },
  {
   "cell_type": "markdown",
   "id": "6e3f9908",
   "metadata": {},
   "source": [
    "Cross-validation methods should be used to justify the authenticity of your ML results."
   ]
  },
  {
   "cell_type": "markdown",
   "id": "68e2ddb3",
   "metadata": {},
   "source": [
    "You can find any public dataset from an authentic resource repository and the dataset should have at least\n",
    "2000 rows and 8 columns after cleaning and there is not any upper bound."
   ]
  },
  {
   "cell_type": "code",
   "execution_count": null,
   "id": "d0fc53cc",
   "metadata": {},
   "outputs": [],
   "source": []
  }
 ],
 "metadata": {
  "kernelspec": {
   "display_name": "Python 3 (ipykernel)",
   "language": "python",
   "name": "python3"
  },
  "language_info": {
   "codemirror_mode": {
    "name": "ipython",
    "version": 3
   },
   "file_extension": ".py",
   "mimetype": "text/x-python",
   "name": "python",
   "nbconvert_exporter": "python",
   "pygments_lexer": "ipython3",
   "version": "3.9.7"
  }
 },
 "nbformat": 4,
 "nbformat_minor": 5
}
